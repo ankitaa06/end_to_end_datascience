{
 "cells": [
  {
   "cell_type": "markdown",
   "metadata": {},
   "source": [
    "## The task here is to Predict whether a payment by a company to a medical doctor or facility was made as a part of the research project or not."
   ]
  },
  {
   "cell_type": "markdown",
   "metadata": {},
   "source": [
    "The data is from the year 2017 which can be found here:\n",
    "https://www.cms.gov/OpenPayments/Explore-the-Data/Dataset-Downloads.html"
   ]
  },
  {
   "cell_type": "code",
   "execution_count": 77,
   "metadata": {
    "scrolled": true
   },
   "outputs": [],
   "source": [
    "# all imports\n",
    "try:\n",
    "    import pandas as pd \n",
    "    import numpy as np\n",
    "    import seaborn as sns\n",
    "    import matplotlib.pyplot as plt\n",
    "    import warnings\n",
    "    warnings.filterwarnings('ignore')\n",
    "    import helpers\n",
    "    import logging\n",
    "    from sklearn.model_selection import train_test_split,cross_validate,GridSearchCV\n",
    "    from sklearn.linear_model import LogisticRegression\n",
    "    from sklearn.ensemble import RandomForestClassifier\n",
    "    from sklearn.impute import SimpleImputer\n",
    "    from sklearn.preprocessing import StandardScaler,OneHotEncoder\n",
    "    from category_encoders import TargetEncoder\n",
    "    from sklearn.compose import ColumnTransformer\n",
    "    from sklearn.pipeline import Pipeline\n",
    "    from imblearn.pipeline import make_pipeline as make_imb_pipeline\n",
    "    from imblearn.under_sampling import RandomUnderSampler\n",
    "    from sklearn.feature_selection import mutual_info_classif,f_classif\n",
    "    \n",
    "except ImportError as error:\n",
    "    import logging\n",
    "    logging.info('Error occured while importing libraries')\n",
    "    logging.error(error)"
   ]
  },
  {
   "cell_type": "markdown",
   "metadata": {},
   "source": [
    "### <p style=\"color:red;\">Using wrong import to display - try except and logging function toy example</p>"
   ]
  },
  {
   "cell_type": "code",
   "execution_count": 62,
   "metadata": {},
   "outputs": [
    {
     "name": "stderr",
     "output_type": "stream",
     "text": [
      "INFO:root:Error occured while importing libraries\n",
      "ERROR:root:cannot import name 'OneHotEncoder' from 'sklearn.impute' (/anaconda3/envs/applied_ml/lib/python3.7/site-packages/sklearn/impute.py)\n"
     ]
    }
   ],
   "source": [
    "# wrong imports, try except, logging toy example\n",
    "try:\n",
    "    from sklearn.impute import SimpleImputer,OneHotEncoder\n",
    "    from sklearn.preprocessing import StandardScaler\n",
    "    \n",
    "except ImportError as error:\n",
    "    import logging\n",
    "    logging.info('Error occured while importing libraries')\n",
    "    logging.error(error)\n",
    "    \n",
    "    "
   ]
  },
  {
   "cell_type": "code",
   "execution_count": 3,
   "metadata": {},
   "outputs": [],
   "source": [
    "Research = pd.read_csv(\"./PGYR17_P011819/OP_DTL_RSRCH_PGYR2017_P01182019.csv\",\n",
    "                       index_col=\"Record_ID\")\n",
    "General = pd.read_csv('./PGYR17_P011819/OP_DTL_GNRL_PGYR2017_P01182019.csv',\n",
    "                      index_col=\"Record_ID\")"
   ]
  },
  {
   "cell_type": "code",
   "execution_count": 4,
   "metadata": {},
   "outputs": [
    {
     "data": {
      "text/html": [
       "<div>\n",
       "<style scoped>\n",
       "    .dataframe tbody tr th:only-of-type {\n",
       "        vertical-align: middle;\n",
       "    }\n",
       "\n",
       "    .dataframe tbody tr th {\n",
       "        vertical-align: top;\n",
       "    }\n",
       "\n",
       "    .dataframe thead th {\n",
       "        text-align: right;\n",
       "    }\n",
       "</style>\n",
       "<table border=\"1\" class=\"dataframe\">\n",
       "  <thead>\n",
       "    <tr style=\"text-align: right;\">\n",
       "      <th></th>\n",
       "      <th>Change_Type</th>\n",
       "      <th>Covered_Recipient_Type</th>\n",
       "      <th>Noncovered_Recipient_Entity_Name</th>\n",
       "      <th>Teaching_Hospital_CCN</th>\n",
       "      <th>Teaching_Hospital_ID</th>\n",
       "      <th>Teaching_Hospital_Name</th>\n",
       "      <th>Physician_Profile_ID</th>\n",
       "      <th>Physician_First_Name</th>\n",
       "      <th>Physician_Middle_Name</th>\n",
       "      <th>Physician_Last_Name</th>\n",
       "      <th>...</th>\n",
       "      <th>Expenditure_Category6</th>\n",
       "      <th>Preclinical_Research_Indicator</th>\n",
       "      <th>Delay_in_Publication_Indicator</th>\n",
       "      <th>Name_of_Study</th>\n",
       "      <th>Dispute_Status_for_Publication</th>\n",
       "      <th>Program_Year</th>\n",
       "      <th>Payment_Publication_Date</th>\n",
       "      <th>ClinicalTrials_Gov_Identifier</th>\n",
       "      <th>Research_Information_Link</th>\n",
       "      <th>Context_of_Research</th>\n",
       "    </tr>\n",
       "    <tr>\n",
       "      <th>Record_ID</th>\n",
       "      <th></th>\n",
       "      <th></th>\n",
       "      <th></th>\n",
       "      <th></th>\n",
       "      <th></th>\n",
       "      <th></th>\n",
       "      <th></th>\n",
       "      <th></th>\n",
       "      <th></th>\n",
       "      <th></th>\n",
       "      <th></th>\n",
       "      <th></th>\n",
       "      <th></th>\n",
       "      <th></th>\n",
       "      <th></th>\n",
       "      <th></th>\n",
       "      <th></th>\n",
       "      <th></th>\n",
       "      <th></th>\n",
       "      <th></th>\n",
       "      <th></th>\n",
       "    </tr>\n",
       "  </thead>\n",
       "  <tbody>\n",
       "    <tr>\n",
       "      <th>428263319</th>\n",
       "      <td>UNCHANGED</td>\n",
       "      <td>Covered Recipient Physician</td>\n",
       "      <td>NaN</td>\n",
       "      <td>NaN</td>\n",
       "      <td>NaN</td>\n",
       "      <td>NaN</td>\n",
       "      <td>142103.0</td>\n",
       "      <td>Cheryl</td>\n",
       "      <td>NaN</td>\n",
       "      <td>Hull</td>\n",
       "      <td>...</td>\n",
       "      <td>NaN</td>\n",
       "      <td>No</td>\n",
       "      <td>No</td>\n",
       "      <td>CFW-2D</td>\n",
       "      <td>No</td>\n",
       "      <td>2017</td>\n",
       "      <td>01/18/2019</td>\n",
       "      <td>NCT02393417</td>\n",
       "      <td>www.nielsenbio.com</td>\n",
       "      <td>Treatment of common warts</td>\n",
       "    </tr>\n",
       "    <tr>\n",
       "      <th>428263323</th>\n",
       "      <td>UNCHANGED</td>\n",
       "      <td>Covered Recipient Physician</td>\n",
       "      <td>NaN</td>\n",
       "      <td>NaN</td>\n",
       "      <td>NaN</td>\n",
       "      <td>NaN</td>\n",
       "      <td>237.0</td>\n",
       "      <td>Steven</td>\n",
       "      <td>NaN</td>\n",
       "      <td>Kempers</td>\n",
       "      <td>...</td>\n",
       "      <td>NaN</td>\n",
       "      <td>No</td>\n",
       "      <td>No</td>\n",
       "      <td>CFW-2D</td>\n",
       "      <td>No</td>\n",
       "      <td>2017</td>\n",
       "      <td>01/18/2019</td>\n",
       "      <td>NCT02393417</td>\n",
       "      <td>www.nielsenbio.com</td>\n",
       "      <td>Treatment of common warts</td>\n",
       "    </tr>\n",
       "    <tr>\n",
       "      <th>428263325</th>\n",
       "      <td>UNCHANGED</td>\n",
       "      <td>Covered Recipient Physician</td>\n",
       "      <td>NaN</td>\n",
       "      <td>NaN</td>\n",
       "      <td>NaN</td>\n",
       "      <td>NaN</td>\n",
       "      <td>342323.0</td>\n",
       "      <td>Leonard</td>\n",
       "      <td>NaN</td>\n",
       "      <td>Swinyer</td>\n",
       "      <td>...</td>\n",
       "      <td>NaN</td>\n",
       "      <td>No</td>\n",
       "      <td>No</td>\n",
       "      <td>CFW-2D</td>\n",
       "      <td>No</td>\n",
       "      <td>2017</td>\n",
       "      <td>01/18/2019</td>\n",
       "      <td>NCT02393417</td>\n",
       "      <td>www.nielsenbio.com</td>\n",
       "      <td>Treatment of common warts</td>\n",
       "    </tr>\n",
       "  </tbody>\n",
       "</table>\n",
       "<p>3 rows × 175 columns</p>\n",
       "</div>"
      ],
      "text/plain": [
       "          Change_Type       Covered_Recipient_Type  \\\n",
       "Record_ID                                            \n",
       "428263319   UNCHANGED  Covered Recipient Physician   \n",
       "428263323   UNCHANGED  Covered Recipient Physician   \n",
       "428263325   UNCHANGED  Covered Recipient Physician   \n",
       "\n",
       "          Noncovered_Recipient_Entity_Name  Teaching_Hospital_CCN  \\\n",
       "Record_ID                                                           \n",
       "428263319                              NaN                    NaN   \n",
       "428263323                              NaN                    NaN   \n",
       "428263325                              NaN                    NaN   \n",
       "\n",
       "           Teaching_Hospital_ID Teaching_Hospital_Name  Physician_Profile_ID  \\\n",
       "Record_ID                                                                      \n",
       "428263319                   NaN                    NaN              142103.0   \n",
       "428263323                   NaN                    NaN                 237.0   \n",
       "428263325                   NaN                    NaN              342323.0   \n",
       "\n",
       "          Physician_First_Name Physician_Middle_Name Physician_Last_Name  ...  \\\n",
       "Record_ID                                                                 ...   \n",
       "428263319               Cheryl                   NaN                Hull  ...   \n",
       "428263323               Steven                   NaN             Kempers  ...   \n",
       "428263325              Leonard                   NaN             Swinyer  ...   \n",
       "\n",
       "          Expenditure_Category6 Preclinical_Research_Indicator  \\\n",
       "Record_ID                                                        \n",
       "428263319                   NaN                             No   \n",
       "428263323                   NaN                             No   \n",
       "428263325                   NaN                             No   \n",
       "\n",
       "          Delay_in_Publication_Indicator Name_of_Study  \\\n",
       "Record_ID                                                \n",
       "428263319                             No        CFW-2D   \n",
       "428263323                             No        CFW-2D   \n",
       "428263325                             No        CFW-2D   \n",
       "\n",
       "          Dispute_Status_for_Publication Program_Year  \\\n",
       "Record_ID                                               \n",
       "428263319                             No         2017   \n",
       "428263323                             No         2017   \n",
       "428263325                             No         2017   \n",
       "\n",
       "          Payment_Publication_Date ClinicalTrials_Gov_Identifier  \\\n",
       "Record_ID                                                          \n",
       "428263319               01/18/2019                   NCT02393417   \n",
       "428263323               01/18/2019                   NCT02393417   \n",
       "428263325               01/18/2019                   NCT02393417   \n",
       "\n",
       "          Research_Information_Link        Context_of_Research  \n",
       "Record_ID                                                       \n",
       "428263319        www.nielsenbio.com  Treatment of common warts  \n",
       "428263323        www.nielsenbio.com  Treatment of common warts  \n",
       "428263325        www.nielsenbio.com  Treatment of common warts  \n",
       "\n",
       "[3 rows x 175 columns]"
      ]
     },
     "execution_count": 4,
     "metadata": {},
     "output_type": "execute_result"
    }
   ],
   "source": [
    "Research.head(3)"
   ]
  },
  {
   "cell_type": "code",
   "execution_count": 5,
   "metadata": {},
   "outputs": [
    {
     "data": {
      "text/html": [
       "<div>\n",
       "<style scoped>\n",
       "    .dataframe tbody tr th:only-of-type {\n",
       "        vertical-align: middle;\n",
       "    }\n",
       "\n",
       "    .dataframe tbody tr th {\n",
       "        vertical-align: top;\n",
       "    }\n",
       "\n",
       "    .dataframe thead th {\n",
       "        text-align: right;\n",
       "    }\n",
       "</style>\n",
       "<table border=\"1\" class=\"dataframe\">\n",
       "  <thead>\n",
       "    <tr style=\"text-align: right;\">\n",
       "      <th></th>\n",
       "      <th>Change_Type</th>\n",
       "      <th>Covered_Recipient_Type</th>\n",
       "      <th>Teaching_Hospital_CCN</th>\n",
       "      <th>Teaching_Hospital_ID</th>\n",
       "      <th>Teaching_Hospital_Name</th>\n",
       "      <th>Physician_Profile_ID</th>\n",
       "      <th>Physician_First_Name</th>\n",
       "      <th>Physician_Middle_Name</th>\n",
       "      <th>Physician_Last_Name</th>\n",
       "      <th>Physician_Name_Suffix</th>\n",
       "      <th>...</th>\n",
       "      <th>Product_Category_or_Therapeutic_Area_4</th>\n",
       "      <th>Name_of_Drug_or_Biological_or_Device_or_Medical_Supply_4</th>\n",
       "      <th>Associated_Drug_or_Biological_NDC_4</th>\n",
       "      <th>Covered_or_Noncovered_Indicator_5</th>\n",
       "      <th>Indicate_Drug_or_Biological_or_Device_or_Medical_Supply_5</th>\n",
       "      <th>Product_Category_or_Therapeutic_Area_5</th>\n",
       "      <th>Name_of_Drug_or_Biological_or_Device_or_Medical_Supply_5</th>\n",
       "      <th>Associated_Drug_or_Biological_NDC_5</th>\n",
       "      <th>Program_Year</th>\n",
       "      <th>Payment_Publication_Date</th>\n",
       "    </tr>\n",
       "    <tr>\n",
       "      <th>Record_ID</th>\n",
       "      <th></th>\n",
       "      <th></th>\n",
       "      <th></th>\n",
       "      <th></th>\n",
       "      <th></th>\n",
       "      <th></th>\n",
       "      <th></th>\n",
       "      <th></th>\n",
       "      <th></th>\n",
       "      <th></th>\n",
       "      <th></th>\n",
       "      <th></th>\n",
       "      <th></th>\n",
       "      <th></th>\n",
       "      <th></th>\n",
       "      <th></th>\n",
       "      <th></th>\n",
       "      <th></th>\n",
       "      <th></th>\n",
       "      <th></th>\n",
       "      <th></th>\n",
       "    </tr>\n",
       "  </thead>\n",
       "  <tbody>\n",
       "    <tr>\n",
       "      <th>421243947</th>\n",
       "      <td>UNCHANGED</td>\n",
       "      <td>Covered Recipient Physician</td>\n",
       "      <td>NaN</td>\n",
       "      <td>NaN</td>\n",
       "      <td>NaN</td>\n",
       "      <td>326860.0</td>\n",
       "      <td>NAZEM</td>\n",
       "      <td>NaN</td>\n",
       "      <td>ABRAHAM</td>\n",
       "      <td>NaN</td>\n",
       "      <td>...</td>\n",
       "      <td>NaN</td>\n",
       "      <td>NaN</td>\n",
       "      <td>NaN</td>\n",
       "      <td>NaN</td>\n",
       "      <td>NaN</td>\n",
       "      <td>NaN</td>\n",
       "      <td>NaN</td>\n",
       "      <td>NaN</td>\n",
       "      <td>2017</td>\n",
       "      <td>01/18/2019</td>\n",
       "    </tr>\n",
       "    <tr>\n",
       "      <th>421243939</th>\n",
       "      <td>UNCHANGED</td>\n",
       "      <td>Covered Recipient Physician</td>\n",
       "      <td>NaN</td>\n",
       "      <td>NaN</td>\n",
       "      <td>NaN</td>\n",
       "      <td>604392.0</td>\n",
       "      <td>Charles</td>\n",
       "      <td>NaN</td>\n",
       "      <td>Pak</td>\n",
       "      <td>NaN</td>\n",
       "      <td>...</td>\n",
       "      <td>NaN</td>\n",
       "      <td>NaN</td>\n",
       "      <td>NaN</td>\n",
       "      <td>NaN</td>\n",
       "      <td>NaN</td>\n",
       "      <td>NaN</td>\n",
       "      <td>NaN</td>\n",
       "      <td>NaN</td>\n",
       "      <td>2017</td>\n",
       "      <td>01/18/2019</td>\n",
       "    </tr>\n",
       "    <tr>\n",
       "      <th>421243941</th>\n",
       "      <td>UNCHANGED</td>\n",
       "      <td>Covered Recipient Physician</td>\n",
       "      <td>NaN</td>\n",
       "      <td>NaN</td>\n",
       "      <td>NaN</td>\n",
       "      <td>326860.0</td>\n",
       "      <td>Nazem</td>\n",
       "      <td>NaN</td>\n",
       "      <td>Abraham</td>\n",
       "      <td>NaN</td>\n",
       "      <td>...</td>\n",
       "      <td>NaN</td>\n",
       "      <td>NaN</td>\n",
       "      <td>NaN</td>\n",
       "      <td>NaN</td>\n",
       "      <td>NaN</td>\n",
       "      <td>NaN</td>\n",
       "      <td>NaN</td>\n",
       "      <td>NaN</td>\n",
       "      <td>2017</td>\n",
       "      <td>01/18/2019</td>\n",
       "    </tr>\n",
       "  </tbody>\n",
       "</table>\n",
       "<p>3 rows × 74 columns</p>\n",
       "</div>"
      ],
      "text/plain": [
       "          Change_Type       Covered_Recipient_Type  Teaching_Hospital_CCN  \\\n",
       "Record_ID                                                                   \n",
       "421243947   UNCHANGED  Covered Recipient Physician                    NaN   \n",
       "421243939   UNCHANGED  Covered Recipient Physician                    NaN   \n",
       "421243941   UNCHANGED  Covered Recipient Physician                    NaN   \n",
       "\n",
       "           Teaching_Hospital_ID Teaching_Hospital_Name  Physician_Profile_ID  \\\n",
       "Record_ID                                                                      \n",
       "421243947                   NaN                    NaN              326860.0   \n",
       "421243939                   NaN                    NaN              604392.0   \n",
       "421243941                   NaN                    NaN              326860.0   \n",
       "\n",
       "          Physician_First_Name Physician_Middle_Name Physician_Last_Name  \\\n",
       "Record_ID                                                                  \n",
       "421243947                NAZEM                   NaN             ABRAHAM   \n",
       "421243939              Charles                   NaN                 Pak   \n",
       "421243941                Nazem                   NaN             Abraham   \n",
       "\n",
       "          Physician_Name_Suffix  ... Product_Category_or_Therapeutic_Area_4  \\\n",
       "Record_ID                        ...                                          \n",
       "421243947                   NaN  ...                                    NaN   \n",
       "421243939                   NaN  ...                                    NaN   \n",
       "421243941                   NaN  ...                                    NaN   \n",
       "\n",
       "          Name_of_Drug_or_Biological_or_Device_or_Medical_Supply_4  \\\n",
       "Record_ID                                                            \n",
       "421243947                                                NaN         \n",
       "421243939                                                NaN         \n",
       "421243941                                                NaN         \n",
       "\n",
       "          Associated_Drug_or_Biological_NDC_4  \\\n",
       "Record_ID                                       \n",
       "421243947                                 NaN   \n",
       "421243939                                 NaN   \n",
       "421243941                                 NaN   \n",
       "\n",
       "          Covered_or_Noncovered_Indicator_5  \\\n",
       "Record_ID                                     \n",
       "421243947                               NaN   \n",
       "421243939                               NaN   \n",
       "421243941                               NaN   \n",
       "\n",
       "          Indicate_Drug_or_Biological_or_Device_or_Medical_Supply_5  \\\n",
       "Record_ID                                                             \n",
       "421243947                                                NaN          \n",
       "421243939                                                NaN          \n",
       "421243941                                                NaN          \n",
       "\n",
       "          Product_Category_or_Therapeutic_Area_5  \\\n",
       "Record_ID                                          \n",
       "421243947                                    NaN   \n",
       "421243939                                    NaN   \n",
       "421243941                                    NaN   \n",
       "\n",
       "          Name_of_Drug_or_Biological_or_Device_or_Medical_Supply_5  \\\n",
       "Record_ID                                                            \n",
       "421243947                                                NaN         \n",
       "421243939                                                NaN         \n",
       "421243941                                                NaN         \n",
       "\n",
       "          Associated_Drug_or_Biological_NDC_5 Program_Year  \\\n",
       "Record_ID                                                    \n",
       "421243947                                 NaN         2017   \n",
       "421243939                                 NaN         2017   \n",
       "421243941                                 NaN         2017   \n",
       "\n",
       "          Payment_Publication_Date  \n",
       "Record_ID                           \n",
       "421243947               01/18/2019  \n",
       "421243939               01/18/2019  \n",
       "421243941               01/18/2019  \n",
       "\n",
       "[3 rows x 74 columns]"
      ]
     },
     "execution_count": 5,
     "metadata": {},
     "output_type": "execute_result"
    }
   ],
   "source": [
    "General.head(3)"
   ]
  },
  {
   "cell_type": "code",
   "execution_count": 6,
   "metadata": {},
   "outputs": [
    {
     "name": "stdout",
     "output_type": "stream",
     "text": [
      "Total rows in Research dataframe: 602530\n",
      "Total rows in General dataframe: 10663833\n"
     ]
    }
   ],
   "source": [
    "print('Total rows in Research dataframe:',len(Research))\n",
    "print('Total rows in General dataframe:',len(General))"
   ]
  },
  {
   "cell_type": "markdown",
   "metadata": {},
   "source": [
    "### Calling helper function to remove columns with more than n% null values (by default n=10%)"
   ]
  },
  {
   "cell_type": "markdown",
   "metadata": {},
   "source": [
    "#### <p style=\"color:red;\">NOTE: The helper function is written in a separate python file following the PEP 8 guideline which also includes the unit testing [pytest].</p>"
   ]
  },
  {
   "cell_type": "code",
   "execution_count": 7,
   "metadata": {},
   "outputs": [],
   "source": [
    "# The helper function is written in a separate python file \n",
    "# following the PEP 8 guideline which also includes \n",
    "# the unit testing [pytest].\n",
    "research_cleaned = helpers.remove_cols_with_null(Research)\n",
    "general_cleaned = helpers.remove_cols_with_null(General)"
   ]
  },
  {
   "cell_type": "markdown",
   "metadata": {},
   "source": [
    "### Assigning a column 'target' to identify whether the data falls under Research [1] or General [0] category"
   ]
  },
  {
   "cell_type": "code",
   "execution_count": 11,
   "metadata": {},
   "outputs": [],
   "source": [
    "research_cleaned['Target']=np.ones(len(research_cleaned))\n",
    "general_cleaned['Target']=np.zeros(len(general_cleaned))"
   ]
  },
  {
   "cell_type": "code",
   "execution_count": 12,
   "metadata": {},
   "outputs": [],
   "source": [
    "common_cols = set(research_cleaned).intersection(set(general_cleaned))\n",
    "research_cleaned = research_cleaned[common_cols]\n",
    "general_cleaned = general_cleaned[common_cols]"
   ]
  },
  {
   "cell_type": "markdown",
   "metadata": {},
   "source": [
    "## Data Exploration"
   ]
  },
  {
   "cell_type": "markdown",
   "metadata": {},
   "source": [
    "### 1. Data Balance"
   ]
  },
  {
   "cell_type": "code",
   "execution_count": 98,
   "metadata": {},
   "outputs": [
    {
     "name": "stdout",
     "output_type": "stream",
     "text": [
      "Research data points are approximately 5% of the total data points\n"
     ]
    }
   ],
   "source": [
    "a = round(len(Research)/(len(Research)+len(General))*100)\n",
    "print('Research data points are approximately {}% of the total data points'.format(a))"
   ]
  },
  {
   "cell_type": "markdown",
   "metadata": {},
   "source": [
    "#### Observation: The data is highly skewed with class imbalance of 1:19"
   ]
  },
  {
   "cell_type": "markdown",
   "metadata": {},
   "source": [
    "### 2. Features Analysis"
   ]
  },
  {
   "cell_type": "code",
   "execution_count": 14,
   "metadata": {},
   "outputs": [
    {
     "name": "stdout",
     "output_type": "stream",
     "text": [
      "Total Categorical columns: 16\n",
      " Index(['Delay_in_Publication_Indicator', 'Recipient_Zip_Code',\n",
      "       'Recipient_Country',\n",
      "       'Applicable_Manufacturer_or_Applicable_GPO_Making_Payment_Country',\n",
      "       'Dispute_Status_for_Publication', 'Date_of_Payment',\n",
      "       'Covered_Recipient_Type', 'Recipient_State', 'Payment_Publication_Date',\n",
      "       'Change_Type', 'Recipient_City',\n",
      "       'Submitting_Applicable_Manufacturer_or_Applicable_GPO_Name',\n",
      "       'Related_Product_Indicator',\n",
      "       'Recipient_Primary_Business_Street_Address_Line1',\n",
      "       'Form_of_Payment_or_Transfer_of_Value',\n",
      "       'Applicable_Manufacturer_or_Applicable_GPO_Making_Payment_Name'],\n",
      "      dtype='object')\n",
      "\n",
      "Total Continuous columns: 4\n",
      " Index(['Total_Amount_of_Payment_USDollars', 'Target', 'Program_Year',\n",
      "       'Applicable_Manufacturer_or_Applicable_GPO_Making_Payment_ID'],\n",
      "      dtype='object') \n",
      "\n"
     ]
    }
   ],
   "source": [
    "cat_cols = research_cleaned.columns[(research_cleaned.dtypes==object).values]\n",
    "con_cols = research_cleaned.columns[(research_cleaned.dtypes!=object).values]\n",
    "print('Total Categorical columns: {}\\n {}\\n'.format(len(cat_cols),cat_cols))\n",
    "print('Total Continuous columns: {}\\n {} \\n'.format(len(con_cols),con_cols))"
   ]
  },
  {
   "cell_type": "code",
   "execution_count": 15,
   "metadata": {},
   "outputs": [],
   "source": [
    "research_cleaned_cat = research_cleaned[cat_cols].astype(str)\n",
    "general_cleaned_cat = general_cleaned[cat_cols].astype(str)\n",
    "\n",
    "research_cleaned_con = research_cleaned[con_cols]\n",
    "general_cleaned_con = general_cleaned[con_cols]"
   ]
  },
  {
   "cell_type": "markdown",
   "metadata": {},
   "source": [
    "#### a. Categorical Features Analysis"
   ]
  },
  {
   "cell_type": "code",
   "execution_count": 16,
   "metadata": {},
   "outputs": [
    {
     "data": {
      "image/png": "[encoded data removed]",
      "text/plain": [
       "<Figure size 2160x2160 with 16 Axes>"
      ]
     },
     "metadata": {
      "needs_background": "light"
     },
     "output_type": "display_data"
    }
   ],
   "source": [
    "fig, axes = plt.subplots(4, 4, figsize=(30, 30))\n",
    "head = list(cat_cols)\n",
    "for i, ax in enumerate(axes.ravel()):\n",
    "    if i >= len(head):\n",
    "        break\n",
    "    j = head[i]\n",
    "    ax.set_title(\"{}\".format(j))\n",
    "    if len(general_cleaned_cat.iloc[:, i].value_counts()) > 100:\n",
    "        continue\n",
    "    ax.plot(research_cleaned_cat[j].value_counts().keys(),\n",
    "            research_cleaned_cat[j].value_counts().values/len(research_cleaned_cat),\n",
    "            'ro', label='Research')\n",
    "    ax.plot(general_cleaned_cat[j].value_counts().keys(),\n",
    "            general_cleaned_cat[j].value_counts().values/len(general_cleaned_cat),\n",
    "            'bo', label='General')"
   ]
  },
  {
   "cell_type": "markdown",
   "metadata": {},
   "source": [
    "#### Observation:<ul>\n",
    "<li>The picture above plots the frequency density (frequency/class size) of each categorical feature in two classes. Intuitively, if the red dots and blue dots are far away each other then the feature should be ideal.</li>\n",
    "<li>\n",
    " Plots for columns with more than 300 categories are difficult to comprehend, therefore have been omitted.\n",
    "    </li>\n"
   ]
  },
  {
   "cell_type": "markdown",
   "metadata": {},
   "source": [
    "#### b. Continuous Features Analysis:"
   ]
  },
  {
   "cell_type": "code",
   "execution_count": 91,
   "metadata": {
    "scrolled": false
   },
   "outputs": [
    {
     "data": {
      "text/plain": [
       "<matplotlib.legend.Legend at 0x1af2409e80>"
      ]
     },
     "execution_count": 91,
     "metadata": {},
     "output_type": "execute_result"
    },
    {
     "data": {
      "image/png": "[encoded data removed]",
      "text/plain": [
       "<Figure size 1152x360 with 2 Axes>"
      ]
     },
     "metadata": {
      "needs_background": "light"
     },
     "output_type": "display_data"
    }
   ],
   "source": [
    "f, ax = plt.subplots(1, 2, figsize=(16, 5))\n",
    "sns.distplot(np.sort(research_cleaned_con['Total_Amount_of_Payment_USDollars'])\n",
    "             [:-5000], hist=True, rug=False, ax=ax[0], color='darkblue',\n",
    "             kde_kws={\"shade\": False}, label='Research')\n",
    "sns.distplot(np.sort(general_cleaned_con['Total_Amount_of_Payment_USDollars'])\n",
    "             [:-5000], hist=True, rug=False, ax=ax[1], color='darkred',\n",
    "             kde_kws={\"shade\": False}, label='General')\n",
    "plt.setp(ax,yticks=[])\n",
    "ax[0].tick_params(axis='both',labelsize=14)\n",
    "ax[1].tick_params(axis='both',labelsize=14)\n",
    "ax[0].set_xlabel('Total_Amount_of_Payment_USDollars',size=14,family='Verdana')\n",
    "ax[1].set_xlabel('Total_Amount_of_Payment_USDollars',size=14,family='Verdana')\n",
    "ax[0].legend()\n",
    "ax[1].legend()\n"
   ]
  },
  {
   "cell_type": "code",
   "execution_count": 20,
   "metadata": {
    "scrolled": true
   },
   "outputs": [
    {
     "data": {
      "text/plain": [
       "count    1.066383e+07\n",
       "mean     2.638836e+02\n",
       "std      2.213081e+04\n",
       "min      1.000000e-02\n",
       "25%      1.154000e+01\n",
       "50%      1.565000e+01\n",
       "75%      2.454000e+01\n",
       "max      2.684237e+07\n",
       "Name: Total_Amount_of_Payment_USDollars, dtype: float64"
      ]
     },
     "execution_count": 20,
     "metadata": {},
     "output_type": "execute_result"
    }
   ],
   "source": [
    "general_cleaned_con['Total_Amount_of_Payment_USDollars'].describe()"
   ]
  },
  {
   "cell_type": "code",
   "execution_count": 21,
   "metadata": {
    "scrolled": true
   },
   "outputs": [
    {
     "data": {
      "text/plain": [
       "count    6.025300e+05\n",
       "mean     7.568244e+03\n",
       "std      1.148221e+05\n",
       "min      1.000000e-02\n",
       "25%      1.420000e+02\n",
       "50%      8.089200e+02\n",
       "75%      3.266910e+03\n",
       "max      5.910413e+07\n",
       "Name: Total_Amount_of_Payment_USDollars, dtype: float64"
      ]
     },
     "execution_count": 21,
     "metadata": {},
     "output_type": "execute_result"
    }
   ],
   "source": [
    "research_cleaned_con['Total_Amount_of_Payment_USDollars'].describe()"
   ]
  },
  {
   "cell_type": "markdown",
   "metadata": {},
   "source": [
    "#### Observation:"
   ]
  },
  {
   "cell_type": "markdown",
   "metadata": {},
   "source": [
    " <ul>\n",
    " <li>1. The total amount of payments for any research projects is more than the amount spent for general use. </li>\n",
    " <li>2. Most research projects pay less than 20000 USD </li>\n",
    " \n",
    " <li>3. Most payments made for general usage are less than 100 USD</li>\n",
    " <li>4. Overall, this feature seems to be very important in differentiating between general and research payments</li>\n",
    " </ul>\n"
   ]
  },
  {
   "cell_type": "markdown",
   "metadata": {},
   "source": [
    "## Feature Engineering"
   ]
  },
  {
   "cell_type": "markdown",
   "metadata": {},
   "source": [
    "<ul>\n",
    "    <b> Removing unimportant features.</b>\n",
    "<li>'Change_Type','Delay_in_Publication_Indicator', 'Payment_Publication_Date','Dispute_Status_for_Publication': It is clearly visible from the fig that these columns do not adequetly differentiate between the general and research categories.</li>\n",
    "<li> Remove 'Covered_Recepient_Type': should be removed because of leaking the information of target. </li>\n",
    "<li>'Date_of_Payment' will be updated after the payment is completed and hence is irrelevant to our analysis.</li>\n"
   ]
  },
  {
   "cell_type": "markdown",
   "metadata": {},
   "source": [
    "### Combine research and general data and remove irrelevant features"
   ]
  },
  {
   "cell_type": "code",
   "execution_count": 22,
   "metadata": {},
   "outputs": [],
   "source": [
    "data = pd.concat([research_cleaned,general_cleaned])"
   ]
  },
  {
   "cell_type": "code",
   "execution_count": 23,
   "metadata": {},
   "outputs": [],
   "source": [
    "y = data['Target']\n",
    "cat_cols=list(set(cat_cols)-set(['Change_Type','Delay_in_Publication_Indicator','Payment_Publication_Date','Dispute_Status_for_Publication','Covered_Recipient_Type','Covered_Recipient_Type','Date_of_Payment']))\n",
    "cat_cols.append('Applicable_Manufacturer_or_Applicable_GPO_Making_Payment_ID')\n",
    "con_cols=list(con_cols)\n",
    "con_cols.remove('Applicable_Manufacturer_or_Applicable_GPO_Making_Payment_ID')\n",
    "data.drop(['Change_Type','Delay_in_Publication_Indicator','Payment_Publication_Date','Dispute_Status_for_Publication','Covered_Recipient_Type','Covered_Recipient_Type','Date_of_Payment','Target'],1,inplace=True)\n",
    "            \n"
   ]
  },
  {
   "cell_type": "markdown",
   "metadata": {},
   "source": [
    "## Baseline Model"
   ]
  },
  {
   "cell_type": "code",
   "execution_count": 24,
   "metadata": {},
   "outputs": [],
   "source": [
    "X = data\n",
    "X_train_sub, X_test_sub, y_train_sub, y_test_sub = train_test_split(X,y, stratify=y,test_size=0.9,shuffle=True,random_state=42)"
   ]
  },
  {
   "cell_type": "markdown",
   "metadata": {},
   "source": [
    "#### Ordinal encoding"
   ]
  },
  {
   "cell_type": "code",
   "execution_count": 25,
   "metadata": {},
   "outputs": [],
   "source": [
    "for i in cat_cols:\n",
    "    X_train_sub[i]=X_train_sub[i].astype(\"category\").cat.codes"
   ]
  },
  {
   "cell_type": "code",
   "execution_count": 26,
   "metadata": {},
   "outputs": [
    {
     "data": {
      "text/html": [
       "<div>\n",
       "<style scoped>\n",
       "    .dataframe tbody tr th:only-of-type {\n",
       "        vertical-align: middle;\n",
       "    }\n",
       "\n",
       "    .dataframe tbody tr th {\n",
       "        vertical-align: top;\n",
       "    }\n",
       "\n",
       "    .dataframe thead th {\n",
       "        text-align: right;\n",
       "    }\n",
       "</style>\n",
       "<table border=\"1\" class=\"dataframe\">\n",
       "  <thead>\n",
       "    <tr style=\"text-align: right;\">\n",
       "      <th></th>\n",
       "      <th>Total_Amount_of_Payment_USDollars</th>\n",
       "      <th>Program_Year</th>\n",
       "      <th>Recipient_Zip_Code</th>\n",
       "      <th>Recipient_Country</th>\n",
       "      <th>Applicable_Manufacturer_or_Applicable_GPO_Making_Payment_Country</th>\n",
       "      <th>Recipient_State</th>\n",
       "      <th>Recipient_City</th>\n",
       "      <th>Submitting_Applicable_Manufacturer_or_Applicable_GPO_Name</th>\n",
       "      <th>Related_Product_Indicator</th>\n",
       "      <th>Recipient_Primary_Business_Street_Address_Line1</th>\n",
       "      <th>Form_of_Payment_or_Transfer_of_Value</th>\n",
       "      <th>Applicable_Manufacturer_or_Applicable_GPO_Making_Payment_ID</th>\n",
       "      <th>Applicable_Manufacturer_or_Applicable_GPO_Making_Payment_Name</th>\n",
       "    </tr>\n",
       "    <tr>\n",
       "      <th>Record_ID</th>\n",
       "      <th></th>\n",
       "      <th></th>\n",
       "      <th></th>\n",
       "      <th></th>\n",
       "      <th></th>\n",
       "      <th></th>\n",
       "      <th></th>\n",
       "      <th></th>\n",
       "      <th></th>\n",
       "      <th></th>\n",
       "      <th></th>\n",
       "      <th></th>\n",
       "      <th></th>\n",
       "    </tr>\n",
       "  </thead>\n",
       "  <tbody>\n",
       "    <tr>\n",
       "      <th>504173975</th>\n",
       "      <td>13.58</td>\n",
       "      <td>2017</td>\n",
       "      <td>81700</td>\n",
       "      <td>8</td>\n",
       "      <td>31</td>\n",
       "      <td>21</td>\n",
       "      <td>9174</td>\n",
       "      <td>729</td>\n",
       "      <td>1</td>\n",
       "      <td>179478</td>\n",
       "      <td>3</td>\n",
       "      <td>101</td>\n",
       "      <td>836</td>\n",
       "    </tr>\n",
       "    <tr>\n",
       "      <th>504341291</th>\n",
       "      <td>125.00</td>\n",
       "      <td>2017</td>\n",
       "      <td>23368</td>\n",
       "      <td>8</td>\n",
       "      <td>31</td>\n",
       "      <td>39</td>\n",
       "      <td>1008</td>\n",
       "      <td>644</td>\n",
       "      <td>1</td>\n",
       "      <td>161708</td>\n",
       "      <td>3</td>\n",
       "      <td>0</td>\n",
       "      <td>740</td>\n",
       "    </tr>\n",
       "    <tr>\n",
       "      <th>499751214</th>\n",
       "      <td>18.00</td>\n",
       "      <td>2017</td>\n",
       "      <td>114643</td>\n",
       "      <td>8</td>\n",
       "      <td>31</td>\n",
       "      <td>42</td>\n",
       "      <td>9749</td>\n",
       "      <td>16</td>\n",
       "      <td>1</td>\n",
       "      <td>4696</td>\n",
       "      <td>3</td>\n",
       "      <td>705</td>\n",
       "      <td>18</td>\n",
       "    </tr>\n",
       "    <tr>\n",
       "      <th>488378419</th>\n",
       "      <td>19.41</td>\n",
       "      <td>2017</td>\n",
       "      <td>56253</td>\n",
       "      <td>8</td>\n",
       "      <td>31</td>\n",
       "      <td>3</td>\n",
       "      <td>788</td>\n",
       "      <td>421</td>\n",
       "      <td>1</td>\n",
       "      <td>3243</td>\n",
       "      <td>3</td>\n",
       "      <td>99</td>\n",
       "      <td>491</td>\n",
       "    </tr>\n",
       "    <tr>\n",
       "      <th>455672051</th>\n",
       "      <td>12.53</td>\n",
       "      <td>2017</td>\n",
       "      <td>79618</td>\n",
       "      <td>8</td>\n",
       "      <td>31</td>\n",
       "      <td>29</td>\n",
       "      <td>1827</td>\n",
       "      <td>152</td>\n",
       "      <td>1</td>\n",
       "      <td>94719</td>\n",
       "      <td>3</td>\n",
       "      <td>356</td>\n",
       "      <td>165</td>\n",
       "    </tr>\n",
       "  </tbody>\n",
       "</table>\n",
       "</div>"
      ],
      "text/plain": [
       "           Total_Amount_of_Payment_USDollars  Program_Year  \\\n",
       "Record_ID                                                    \n",
       "504173975                              13.58          2017   \n",
       "504341291                             125.00          2017   \n",
       "499751214                              18.00          2017   \n",
       "488378419                              19.41          2017   \n",
       "455672051                              12.53          2017   \n",
       "\n",
       "           Recipient_Zip_Code  Recipient_Country  \\\n",
       "Record_ID                                          \n",
       "504173975               81700                  8   \n",
       "504341291               23368                  8   \n",
       "499751214              114643                  8   \n",
       "488378419               56253                  8   \n",
       "455672051               79618                  8   \n",
       "\n",
       "           Applicable_Manufacturer_or_Applicable_GPO_Making_Payment_Country  \\\n",
       "Record_ID                                                                     \n",
       "504173975                                                 31                  \n",
       "504341291                                                 31                  \n",
       "499751214                                                 31                  \n",
       "488378419                                                 31                  \n",
       "455672051                                                 31                  \n",
       "\n",
       "           Recipient_State  Recipient_City  \\\n",
       "Record_ID                                    \n",
       "504173975               21            9174   \n",
       "504341291               39            1008   \n",
       "499751214               42            9749   \n",
       "488378419                3             788   \n",
       "455672051               29            1827   \n",
       "\n",
       "           Submitting_Applicable_Manufacturer_or_Applicable_GPO_Name  \\\n",
       "Record_ID                                                              \n",
       "504173975                                                729           \n",
       "504341291                                                644           \n",
       "499751214                                                 16           \n",
       "488378419                                                421           \n",
       "455672051                                                152           \n",
       "\n",
       "           Related_Product_Indicator  \\\n",
       "Record_ID                              \n",
       "504173975                          1   \n",
       "504341291                          1   \n",
       "499751214                          1   \n",
       "488378419                          1   \n",
       "455672051                          1   \n",
       "\n",
       "           Recipient_Primary_Business_Street_Address_Line1  \\\n",
       "Record_ID                                                    \n",
       "504173975                                           179478   \n",
       "504341291                                           161708   \n",
       "499751214                                             4696   \n",
       "488378419                                             3243   \n",
       "455672051                                            94719   \n",
       "\n",
       "           Form_of_Payment_or_Transfer_of_Value  \\\n",
       "Record_ID                                         \n",
       "504173975                                     3   \n",
       "504341291                                     3   \n",
       "499751214                                     3   \n",
       "488378419                                     3   \n",
       "455672051                                     3   \n",
       "\n",
       "           Applicable_Manufacturer_or_Applicable_GPO_Making_Payment_ID  \\\n",
       "Record_ID                                                                \n",
       "504173975                                                101             \n",
       "504341291                                                  0             \n",
       "499751214                                                705             \n",
       "488378419                                                 99             \n",
       "455672051                                                356             \n",
       "\n",
       "           Applicable_Manufacturer_or_Applicable_GPO_Making_Payment_Name  \n",
       "Record_ID                                                                 \n",
       "504173975                                                836              \n",
       "504341291                                                740              \n",
       "499751214                                                 18              \n",
       "488378419                                                491              \n",
       "455672051                                                165              "
      ]
     },
     "execution_count": 26,
     "metadata": {},
     "output_type": "execute_result"
    }
   ],
   "source": [
    "X_train_sub.head()"
   ]
  },
  {
   "cell_type": "markdown",
   "metadata": {},
   "source": [
    "#### Train-test split"
   ]
  },
  {
   "cell_type": "code",
   "execution_count": 27,
   "metadata": {},
   "outputs": [],
   "source": [
    "X_train, X_test, y_train, y_test = train_test_split(X_train_sub,y_train_sub, stratify=y_train_sub,test_size=0.9,shuffle=True,random_state=42)"
   ]
  },
  {
   "cell_type": "markdown",
   "metadata": {},
   "source": [
    "### Model with ordinal encoding + Logistic Regression "
   ]
  },
  {
   "cell_type": "code",
   "execution_count": 28,
   "metadata": {},
   "outputs": [
    {
     "name": "stdout",
     "output_type": "stream",
     "text": [
      "-------test_roc_auc------\n",
      "0.7825639705776126\n",
      "-------test_accuracy------\n",
      "0.9501522261696976\n",
      "-------test_average_precision------\n",
      "0.3617017939890038\n",
      "-------test_f1------\n",
      "0.16334540023415084\n",
      "-------recall------\n",
      "0.09211638375123277\n"
     ]
    }
   ],
   "source": [
    "scores = cross_validate(LogisticRegression(),\n",
    "                        X_train, y_train, cv=10,\n",
    "                        scoring=('roc_auc','accuracy','average_precision','recall','f1'))\n",
    "\n",
    "print(\"-------test_roc_auc------\\n\"+str(scores['test_roc_auc'].mean()))\n",
    "print(\"-------test_accuracy------\\n\"+str(scores['test_accuracy'].mean()))\n",
    "print(\"-------test_average_precision------\\n\"+str(scores['test_average_precision'].mean()))\n",
    "print(\"-------test_f1------\\n\"+str(scores['test_f1'].mean()))\n",
    "print(\"-------recall------\\n\"+str(scores['test_recall'].mean()))"
   ]
  },
  {
   "cell_type": "markdown",
   "metadata": {},
   "source": [
    "#### Observation:"
   ]
  },
  {
   "cell_type": "markdown",
   "metadata": {},
   "source": [
    "As the result shows, the prediction accuracy is very high in baseline model however the f1 score and recall are very low which are because of the imbalance of dataset. To tackle this problem, we have to undersampling data."
   ]
  },
  {
   "cell_type": "markdown",
   "metadata": {},
   "source": [
    "### Undersampling"
   ]
  },
  {
   "cell_type": "code",
   "execution_count": 29,
   "metadata": {},
   "outputs": [
    {
     "name": "stdout",
     "output_type": "stream",
     "text": [
      "-------test_roc_auc------\n",
      "0.9288082309336154\n",
      "-------test_accuracy------\n",
      "0.8450688424399694\n",
      "-------test_average_precision------\n",
      "0.4740894962988384\n",
      "-------test_f1------\n",
      "0.3692592229821373\n",
      "-------recall------\n",
      "0.8479702814829506\n"
     ]
    }
   ],
   "source": [
    "undersample_pipe = make_imb_pipeline(RandomUnderSampler(), LogisticRegression())\n",
    "scores = cross_validate(undersample_pipe,\n",
    "                        X_train, y_train, cv=10,\n",
    "                        scoring=('roc_auc','accuracy','average_precision','recall','f1'))\n",
    "print(\"-------test_roc_auc------\\n\"+str(scores['test_roc_auc'].mean()))\n",
    "print(\"-------test_accuracy------\\n\"+str(scores['test_accuracy'].mean()))\n",
    "print(\"-------test_average_precision------\\n\"+str(scores['test_average_precision'].mean()))\n",
    "print(\"-------test_f1------\\n\"+str(scores['test_f1'].mean()))\n",
    "print(\"-------recall------\\n\"+str(scores['test_recall'].mean()))"
   ]
  },
  {
   "cell_type": "markdown",
   "metadata": {},
   "source": [
    "#### Observation:"
   ]
  },
  {
   "cell_type": "markdown",
   "metadata": {},
   "source": [
    "After undersampling the data, the recall,f1 score, precision increased significantly in baseline model "
   ]
  },
  {
   "cell_type": "markdown",
   "metadata": {},
   "source": [
    "### Other Encoding Schemes"
   ]
  },
  {
   "cell_type": "markdown",
   "metadata": {},
   "source": [
    "<p>As seen during the analysis of categorical data, some features, such as <br/>\n",
    "'Recipient_State',<br/>\n",
    "'Date_of_Payment',<br/>\n",
    "'Recipient_Zip_Code',<br/>\n",
    "'Recipient_City',<br/>\n",
    "'Submitting_Applicable_Manufacturer_or_Applicable_GPO_Name',<br/>\n",
    "'Applicable_Manufacturer_or_Applicable_GPO_Making_Payment_Name' <br/>\n",
    "    have more than 100 categories which needs <b>target encoding</b>. \n",
    "\n",
    "For features such as 'Recipient_Country'  have only 4 classes and can be <b>one-hot encoded</b>.\n",
    "<p>\n",
    "\n"
   ]
  },
  {
   "cell_type": "code",
   "execution_count": 30,
   "metadata": {},
   "outputs": [
    {
     "data": {
      "text/plain": [
       "Index(['Total_Amount_of_Payment_USDollars', 'Program_Year',\n",
       "       'Recipient_Zip_Code', 'Recipient_Country',\n",
       "       'Applicable_Manufacturer_or_Applicable_GPO_Making_Payment_Country',\n",
       "       'Recipient_State', 'Recipient_City',\n",
       "       'Submitting_Applicable_Manufacturer_or_Applicable_GPO_Name',\n",
       "       'Related_Product_Indicator',\n",
       "       'Recipient_Primary_Business_Street_Address_Line1',\n",
       "       'Form_of_Payment_or_Transfer_of_Value',\n",
       "       'Applicable_Manufacturer_or_Applicable_GPO_Making_Payment_ID',\n",
       "       'Applicable_Manufacturer_or_Applicable_GPO_Making_Payment_Name'],\n",
       "      dtype='object')"
      ]
     },
     "execution_count": 30,
     "metadata": {},
     "output_type": "execute_result"
    }
   ],
   "source": [
    "X_train.columns"
   ]
  },
  {
   "cell_type": "code",
   "execution_count": 31,
   "metadata": {},
   "outputs": [],
   "source": [
    "target_e={'Recipient_State','Recipient_Zip_Code','Recipient_City','Submitting_Applicable_Manufacturer_or_Applicable_GPO_Name','Applicable_Manufacturer_or_Applicable_GPO_Making_Payment_Name','Applicable_Manufacturer_or_Applicable_GPO_Making_Payment_Country',\n",
    "          'Applicable_Manufacturer_or_Applicable_GPO_Making_Payment_ID'}\n",
    "continuous={'Total_Amount_of_Payment_USDollars'}\n",
    "one_hot=set(X_train)-target_e-continuous\n",
    "\n",
    "target_id=set()\n",
    "one_hot_id=set()\n",
    "continuous_id=set()\n",
    "for index, value in enumerate(list(X_train)):\n",
    "    if value in target_e:\n",
    "        target_id.add(index)\n",
    "    elif value in one_hot:\n",
    "        one_hot_id.add(index)\n",
    "    else:\n",
    "        continuous_id.add(index)"
   ]
  },
  {
   "cell_type": "code",
   "execution_count": 32,
   "metadata": {},
   "outputs": [
    {
     "name": "stdout",
     "output_type": "stream",
     "text": [
      "-------test_roc_auc------\n",
      "0.9068727156505574\n",
      "-------test_accuracy------\n",
      "0.8382610025601359\n",
      "-------test_average_precision------\n",
      "0.36591897657947614\n",
      "-------test_f1------\n",
      "0.35774455371383757\n",
      "-------recall------\n",
      "0.8423249923815606\n"
     ]
    }
   ],
   "source": [
    "### Build a pipeline:\n",
    "\n",
    "numeric_transformer = Pipeline(steps=[('imputer', SimpleImputer(strategy='mean')),\n",
    "  ('scaler', StandardScaler())])\n",
    "\n",
    "categorical_transformer_target=Pipeline(steps=[\n",
    "    ('imputer', SimpleImputer(strategy='constant', fill_value=-1)),\n",
    "    ('target', TargetEncoder(handle_unknown='impute'))])\n",
    "\n",
    "categorical_transformer_one_hot=Pipeline(steps=[\n",
    "    ('imputer', SimpleImputer(strategy='constant', fill_value=-1)),\n",
    "    ('onehot', OneHotEncoder(handle_unknown='ignore',sparse=False))])\n",
    "\n",
    "\n",
    "continuous=np.array(list(continuous_id))\n",
    "\n",
    "categorical_target=np.array(list(target_id))\n",
    "\n",
    "categorical_one_hot=np.array(list(one_hot_id))\n",
    "\n",
    "\n",
    "preprocessor= ColumnTransformer(\n",
    "    transformers=[\n",
    "        ('num', numeric_transformer,continuous),\n",
    "        ('cat_target', categorical_transformer_target, categorical_target),\n",
    "        ('cat_onehot', categorical_transformer_one_hot, categorical_one_hot)\n",
    "    ])\n",
    "\n",
    "clf_L=make_imb_pipeline(RandomUnderSampler(),preprocessor,LogisticRegression())\n",
    "\n",
    "scores = cross_validate(clf_L,\n",
    "                        X_train, y_train, cv=3,\n",
    "                        scoring=('roc_auc','accuracy','average_precision','recall','f1'))\n",
    "\n",
    "print(\"-------test_roc_auc------\\n\"+str(scores['test_roc_auc'].mean()))\n",
    "print(\"-------test_accuracy------\\n\"+str(scores['test_accuracy'].mean()))\n",
    "print(\"-------test_average_precision------\\n\"+str(scores['test_average_precision'].mean()))\n",
    "print(\"-------test_f1------\\n\"+str(scores['test_f1'].mean()))\n",
    "print(\"-------recall------\\n\"+str(scores['test_recall'].mean()))\n"
   ]
  },
  {
   "cell_type": "markdown",
   "metadata": {},
   "source": [
    "#### Observation:\n",
    "Target encoding works slightly better than ordinal encoding"
   ]
  },
  {
   "cell_type": "markdown",
   "metadata": {},
   "source": [
    "### PREDICTIVE MODEL"
   ]
  },
  {
   "cell_type": "markdown",
   "metadata": {},
   "source": [
    "#### RANDOM FOREST MODEL"
   ]
  },
  {
   "cell_type": "code",
   "execution_count": 34,
   "metadata": {},
   "outputs": [
    {
     "name": "stdout",
     "output_type": "stream",
     "text": [
      "-------test_roc_auc------\n",
      "0.9765707273308726\n",
      "-------test_accuracy------\n",
      "0.9295864565242179\n",
      "-------test_average_precision------\n",
      "0.6421008032671963\n",
      "-------test_f1------\n",
      "0.5891639577894635\n",
      "-------recall------\n",
      "0.944065698381189\n"
     ]
    }
   ],
   "source": [
    "clf_RF=make_imb_pipeline(RandomUnderSampler(),preprocessor,RandomForestClassifier(n_estimators=10))\n",
    "\n",
    "scores = cross_validate(clf_RF,\n",
    "                        X_train, y_train, cv=3,\n",
    "                        scoring=('roc_auc','accuracy','average_precision','recall','f1'))\n",
    "\n",
    "print(\"-------test_roc_auc------\\n\"+str(scores['test_roc_auc'].mean()))\n",
    "print(\"-------test_accuracy------\\n\"+str(scores['test_accuracy'].mean()))\n",
    "print(\"-------test_average_precision------\\n\"+str(scores['test_average_precision'].mean()))\n",
    "print(\"-------test_f1------\\n\"+str(scores['test_f1'].mean()))\n",
    "print(\"-------recall------\\n\"+str(scores['test_recall'].mean()))\n"
   ]
  },
  {
   "cell_type": "markdown",
   "metadata": {},
   "source": [
    "#### PARAMETER TUNING"
   ]
  },
  {
   "cell_type": "code",
   "execution_count": 96,
   "metadata": {},
   "outputs": [
    {
     "name": "stdout",
     "output_type": "stream",
     "text": [
      "Best Parameter: {'randomforestclassifier__n_estimators': 30}\n"
     ]
    },
    {
     "data": {
      "text/plain": [
       "<matplotlib.legend.Legend at 0x1af25a8748>"
      ]
     },
     "execution_count": 96,
     "metadata": {},
     "output_type": "execute_result"
    },
    {
     "data": {
      "image/png": "[encoded data removed]",
      "text/plain": [
       "<Figure size 720x360 with 1 Axes>"
      ]
     },
     "metadata": {
      "needs_background": "light"
     },
     "output_type": "display_data"
    }
   ],
   "source": [
    "## Tune Parameters of n esitmators \n",
    "parameters = {}\n",
    "param_grid = {'randomforestclassifier__n_estimators':np.array(range(30,60,10))}\n",
    "CV_RF = GridSearchCV(clf_RF, param_grid, scoring = 'f1')\n",
    "CV_RF.fit(X_train, y_train)\n",
    "print('Best Parameter:', CV_RF.best_params_)\n",
    "L=len(CV_RF.cv_results_['param_randomforestclassifier__n_estimators'])\n",
    "plt.figure(figsize=(10,5))\n",
    "plt.plot(CV_RF.cv_results_['param_randomforestclassifier__n_estimators'].data, CV_RF.cv_results_ ['mean_test_score'],label=\"Gridsearch\")\n",
    "#plt.plot(CV_R.cv_results_[\"param_Ridge__alpha\"].data,[0.863]*L,\"red\",label=\"base\")\n",
    "plt.title(\"RF__N_ESTIMATORS\")\n",
    "plt.xlabel(\"N_ESTIMATORS\")\n",
    "plt.ylabel(\"F1\")\n",
    "plt.legend()\n"
   ]
  },
  {
   "cell_type": "markdown",
   "metadata": {},
   "source": [
    "### FEATURE SELECTION"
   ]
  },
  {
   "cell_type": "markdown",
   "metadata": {},
   "source": [
    "#### MUTUAL INFORMATION AND F-VALUES"
   ]
  },
  {
   "cell_type": "code",
   "execution_count": 37,
   "metadata": {},
   "outputs": [],
   "source": [
    "score_mi=mutual_info_classif(X_train, y_train, discrete_features='auto', n_neighbors=1, copy=True, random_state=None)\n"
   ]
  },
  {
   "cell_type": "markdown",
   "metadata": {},
   "source": [
    "#### PRINT features in order of prioirty from high to low"
   ]
  },
  {
   "cell_type": "code",
   "execution_count": 39,
   "metadata": {},
   "outputs": [
    {
     "data": {
      "text/plain": [
       "['Total_Amount_of_Payment_USDollars',\n",
       " 'Applicable_Manufacturer_or_Applicable_GPO_Making_Payment_Name',\n",
       " 'Recipient_Primary_Business_Street_Address_Line1',\n",
       " 'Applicable_Manufacturer_or_Applicable_GPO_Making_Payment_ID',\n",
       " 'Recipient_Zip_Code',\n",
       " 'Submitting_Applicable_Manufacturer_or_Applicable_GPO_Name',\n",
       " 'Recipient_City',\n",
       " 'Form_of_Payment_or_Transfer_of_Value',\n",
       " 'Related_Product_Indicator',\n",
       " 'Recipient_State',\n",
       " 'Applicable_Manufacturer_or_Applicable_GPO_Making_Payment_Country',\n",
       " 'Recipient_Country',\n",
       " 'Program_Year']"
      ]
     },
     "execution_count": 39,
     "metadata": {},
     "output_type": "execute_result"
    }
   ],
   "source": [
    "[list(X_train)[i] for i in list(np.argsort(score_mi)[::-1])]"
   ]
  },
  {
   "cell_type": "markdown",
   "metadata": {},
   "source": [
    "#### CALCULATE F-VALUES"
   ]
  },
  {
   "cell_type": "code",
   "execution_count": 40,
   "metadata": {},
   "outputs": [],
   "source": [
    "f_values, p_values = f_classif(X_train, y_train)"
   ]
  },
  {
   "cell_type": "markdown",
   "metadata": {},
   "source": [
    "#### PLOT F-VALUES AND MI"
   ]
  },
  {
   "cell_type": "code",
   "execution_count": 41,
   "metadata": {},
   "outputs": [
    {
     "data": {
      "text/plain": [
       "<matplotlib.legend.Legend at 0x1af09eb470>"
      ]
     },
     "execution_count": 41,
     "metadata": {},
     "output_type": "execute_result"
    },
    {
     "data": {
      "image/png": "[encoded data removed]",
      "text/plain": [
       "<Figure size 1080x360 with 2 Axes>"
      ]
     },
     "metadata": {
      "needs_background": "light"
     },
     "output_type": "display_data"
    }
   ],
   "source": [
    "fig, ax1 = plt.subplots(1, 1)\n",
    "fig.set_size_inches(15,5)\n",
    "line_f, = ax1.plot(f_values, 'o', c='r')\n",
    "# plt.ylabel(\"F value\")\n",
    "ax2 = plt.twinx()\n",
    "line_s, = ax2.plot(score_mi, 'o', alpha=.7)\n",
    "ax2.set_ylabel(\"MI score\")\n",
    "ax1.set_xticks(range(len(list(X_train))))\n",
    "ax1.set_xticklabels(list(X_train),rotation='vertical');\n",
    "ax1.set_ylabel('F value')\n",
    "ax1.set_ylim(0,500)\n",
    "plt.legend([line_s, line_f], [\"Mutual info scores\", \"F values\"], loc=(0, 1))"
   ]
  },
  {
   "cell_type": "markdown",
   "metadata": {},
   "source": [
    "#### Observation:\n",
    "We can compare features from their mutual information and f-value graph as well. \n",
    "We know that a higher f-value and higher mutual information value gives a good feature. \n",
    "\n",
    "We can see 'Total_Amount_of_Payment_USDollars','Applicable_Manufacturer_or_Applicable_GPO_Making_Payment_ID',\n",
    "'Related_Product_Indicator','Applicable_Manufacturer_or_Applicable_GPO_Making_Payment_Country' are all good features.\n",
    "[The f-value cant be seen on the graph due to ylimit, but it mean the f-value is very high] \n",
    "\n",
    "\n",
    "Whereas Recipient_state, Submitting_Applicable_Manufacturer_or_Applicable_GPO_Name, Recipient_zip_code\n",
    "have low f-values, indicating bad features.\n",
    "\n"
   ]
  },
  {
   "cell_type": "markdown",
   "metadata": {},
   "source": [
    "### RUN THE MODEL WITH BEST FEATURES"
   ]
  },
  {
   "cell_type": "code",
   "execution_count": 47,
   "metadata": {},
   "outputs": [],
   "source": [
    "X_train.drop(['Recipient_State', 'Submitting_Applicable_Manufacturer_or_Applicable_GPO_Name', 'Recipient_Zip_Code'],axis=1)"
   ]
  },
  {
   "cell_type": "code",
   "execution_count": 46,
   "metadata": {},
   "outputs": [
    {
     "name": "stdout",
     "output_type": "stream",
     "text": [
      "-------test_roc_auc------\n",
      "0.9777574625726498\n",
      "-------test_accuracy------\n",
      "0.9307137238050517\n",
      "-------test_average_precision------\n",
      "0.652730225198507\n",
      "-------test_f1------\n",
      "0.5946756289049556\n",
      "-------recall------\n",
      "0.9503726424978698\n"
     ]
    }
   ],
   "source": [
    "clf_RF=make_imb_pipeline(RandomUnderSampler(),preprocessor,RandomForestClassifier(n_estimators=10))\n",
    "\n",
    "scores = cross_validate(clf_RF,\n",
    "                        X_train, y_train, cv=3,\n",
    "                        scoring=('roc_auc','accuracy','average_precision','recall','f1'))\n",
    "\n",
    "print(\"-------test_roc_auc------\\n\"+str(scores['test_roc_auc'].mean()))\n",
    "print(\"-------test_accuracy------\\n\"+str(scores['test_accuracy'].mean()))\n",
    "print(\"-------test_average_precision------\\n\"+str(scores['test_average_precision'].mean()))\n",
    "print(\"-------test_f1------\\n\"+str(scores['test_f1'].mean()))\n",
    "print(\"-------recall------\\n\"+str(scores['test_recall'].mean()))\n"
   ]
  },
  {
   "cell_type": "markdown",
   "metadata": {},
   "source": [
    "#### Observation:"
   ]
  },
  {
   "cell_type": "markdown",
   "metadata": {},
   "source": [
    "From the results after feature selection, it can be observed that the scores are almost the same, in fact there is a marginal improvement. This reinforces the fact that the features that were removed did not add any new information to the model. "
   ]
  }
 ],
 "metadata": {
  "kernelspec": {
   "display_name": "Python 3",
   "language": "python",
   "name": "python3"
  },
  "language_info": {
   "codemirror_mode": {
    "name": "ipython",
    "version": 3
   },
   "file_extension": ".py",
   "mimetype": "text/x-python",
   "name": "python",
   "nbconvert_exporter": "python",
   "pygments_lexer": "ipython3",
   "version": "3.7.2"
  }
 },
 "nbformat": 4,
 "nbformat_minor": 2
}
